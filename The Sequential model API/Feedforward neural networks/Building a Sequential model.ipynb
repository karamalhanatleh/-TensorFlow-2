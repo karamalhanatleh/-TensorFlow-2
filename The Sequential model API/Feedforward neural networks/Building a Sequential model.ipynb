{
 "cells": [
  {
   "cell_type": "markdown",
   "id": "04711c67",
   "metadata": {},
   "source": [
    "# Building a Sequential model\n"
   ]
  },
  {
   "cell_type": "code",
   "execution_count": 8,
   "id": "8d254e60",
   "metadata": {},
   "outputs": [],
   "source": [
    "#import\n",
    "from tensorflow.keras.models import Sequential\n",
    "from tensorflow.keras.layers import Dense"
   ]
  },
  {
   "cell_type": "code",
   "execution_count": 6,
   "id": "41b2a42f",
   "metadata": {},
   "outputs": [],
   "source": [
    "#model Sequential\n",
    "model=Sequential([\n",
    "    Dense(64 , activation=\"relu\" , input_shape=(784,)),\n",
    "    Dense(10,activation='softmax')                      \n",
    "            ])"
   ]
  },
  {
   "cell_type": "code",
   "execution_count": null,
   "id": "aad06b76",
   "metadata": {},
   "outputs": [],
   "source": []
  },
  {
   "cell_type": "code",
   "execution_count": 9,
   "id": "3b7a1ecb",
   "metadata": {},
   "outputs": [],
   "source": [
    "#######################"
   ]
  },
  {
   "cell_type": "code",
   "execution_count": 10,
   "id": "8a4be005",
   "metadata": {},
   "outputs": [],
   "source": [
    "#import\n",
    "from tensorflow.keras.models import Sequential\n",
    "from tensorflow.keras.layers import Dense"
   ]
  },
  {
   "cell_type": "code",
   "execution_count": 11,
   "id": "6e734faf",
   "metadata": {},
   "outputs": [],
   "source": [
    "##Another way model Sequential\n",
    "model=Sequential()\n",
    "model.add(Dense(64,activation=\"relu\" , input_shape=(784,)))\n",
    "model.add(Dense(10,activation='softmax'))\n"
   ]
  },
  {
   "cell_type": "code",
   "execution_count": null,
   "id": "610c4250",
   "metadata": {},
   "outputs": [],
   "source": []
  },
  {
   "cell_type": "code",
   "execution_count": 12,
   "id": "515d3896",
   "metadata": {},
   "outputs": [],
   "source": [
    "##############################"
   ]
  },
  {
   "cell_type": "code",
   "execution_count": 13,
   "id": "ee108c55",
   "metadata": {},
   "outputs": [],
   "source": [
    "#import \n",
    "from tensorflow.keras.models import Sequential\n",
    "from tensorflow.keras.layers import Flatten,Dense"
   ]
  },
  {
   "cell_type": "code",
   "execution_count": 16,
   "id": "a1f8001e",
   "metadata": {},
   "outputs": [],
   "source": [
    "##Another way model Sequential\n",
    "model=Sequential([\n",
    "    Flatten(input_shape=(28,28)), #784\n",
    "    Dense(64 , activation='relu'),\n",
    "    Dense(10 ,  activation=\"softmax\")\n",
    "])"
   ]
  },
  {
   "cell_type": "code",
   "execution_count": null,
   "id": "a7977f36",
   "metadata": {},
   "outputs": [],
   "source": []
  },
  {
   "cell_type": "code",
   "execution_count": 25,
   "id": "a5f4a8c4",
   "metadata": {},
   "outputs": [
    {
     "data": {
      "text/plain": [
       "1280"
      ]
     },
     "execution_count": 25,
     "metadata": {},
     "output_type": "execute_result"
    }
   ],
   "source": [
    "64*5*4"
   ]
  },
  {
   "cell_type": "code",
   "execution_count": null,
   "id": "80374762",
   "metadata": {},
   "outputs": [],
   "source": []
  }
 ],
 "metadata": {
  "kernelspec": {
   "display_name": "Python 3 (ipykernel)",
   "language": "python",
   "name": "python3"
  },
  "language_info": {
   "codemirror_mode": {
    "name": "ipython",
    "version": 3
   },
   "file_extension": ".py",
   "mimetype": "text/x-python",
   "name": "python",
   "nbconvert_exporter": "python",
   "pygments_lexer": "ipython3",
   "version": "3.9.13"
  }
 },
 "nbformat": 4,
 "nbformat_minor": 5
}
